{
 "cells": [
  {
   "cell_type": "code",
   "execution_count": 48,
   "id": "d9268546",
   "metadata": {},
   "outputs": [],
   "source": [
    "m = [\n",
    "            'SX#  EDE ',\n",
    "            '  # EEEEE',\n",
    "            '#-#     X',\n",
    "            '         ',\n",
    "            '^       K',\n",
    "        ]"
   ]
  },
  {
   "cell_type": "code",
   "execution_count": 47,
   "id": "8886764c",
   "metadata": {},
   "outputs": [
    {
     "ename": "ValueError",
     "evalue": "'^' is not in list",
     "output_type": "error",
     "traceback": [
      "\u001b[0;31m---------------------------------------------------------------------------\u001b[0m",
      "\u001b[0;31mValueError\u001b[0m                                Traceback (most recent call last)",
      "\u001b[0;32m/var/folders/y8/vq429chs6djb0hl0y0zp5fg00000gn/T/ipykernel_15940/1935986789.py\u001b[0m in \u001b[0;36m<module>\u001b[0;34m\u001b[0m\n\u001b[0;32m----> 1\u001b[0;31m \u001b[0mm\u001b[0m\u001b[0;34m.\u001b[0m\u001b[0mindex\u001b[0m\u001b[0;34m(\u001b[0m\u001b[0;34m'^'\u001b[0m\u001b[0;34m)\u001b[0m\u001b[0;34m\u001b[0m\u001b[0;34m\u001b[0m\u001b[0m\n\u001b[0m",
      "\u001b[0;31mValueError\u001b[0m: '^' is not in list"
     ]
    }
   ],
   "source": [
    "m.index('^')"
   ]
  },
  {
   "cell_type": "code",
   "execution_count": 8,
   "id": "7e3d54c4",
   "metadata": {},
   "outputs": [],
   "source": [
    "class Player:\n",
    "    def __init__(self):\n",
    "        self.health = 3\n",
    "        self.attack = 1\n",
    "        self.defense = 1\n",
    "        self.bag = []\n",
    "        self.exp = 0\n",
    "        self.position = [0, 0]"
   ]
  },
  {
   "cell_type": "code",
   "execution_count": 52,
   "id": "5bd97185",
   "metadata": {},
   "outputs": [],
   "source": [
    "def rpg(field, actions):\n",
    "    m = field\n",
    "    player = Player()\n",
    "    \n",
    "    # Turn map from string type into list\n",
    "    for x, items in enumerate(m):\n",
    "        m[x] = list(items)\n",
    "    # Find player position\n",
    "    for y, cols in enumerate(m):\n",
    "        for x, rows in enumerate(cols):\n",
    "            if rows == '^':\n",
    "                player.position = [x, y]\n",
    "    "
   ]
  },
  {
   "cell_type": "code",
   "execution_count": 53,
   "id": "de664644",
   "metadata": {},
   "outputs": [],
   "source": [
    "rpg(m, ['F'])"
   ]
  },
  {
   "cell_type": "code",
   "execution_count": 44,
   "id": "73dcb957",
   "metadata": {},
   "outputs": [
    {
     "data": {
      "text/plain": [
       "[['S', 'X', '#', ' ', ' ', 'E', 'D', 'E', ' '],\n",
       " [' ', ' ', '#', ' ', 'E', 'E', 'E', 'E', 'E'],\n",
       " ['#', '-', '#', ' ', ' ', ' ', ' ', ' ', 'X'],\n",
       " [' ', ' ', ' ', ' ', ' ', ' ', ' ', ' ', ' '],\n",
       " ['^', ' ', ' ', ' ', ' ', ' ', ' ', ' ', 'K']]"
      ]
     },
     "execution_count": 44,
     "metadata": {},
     "output_type": "execute_result"
    }
   ],
   "source": [
    "m"
   ]
  },
  {
   "cell_type": "code",
   "execution_count": null,
   "id": "28132e34",
   "metadata": {},
   "outputs": [],
   "source": []
  }
 ],
 "metadata": {
  "kernelspec": {
   "display_name": "Python 3 (ipykernel)",
   "language": "python",
   "name": "python3"
  },
  "language_info": {
   "codemirror_mode": {
    "name": "ipython",
    "version": 3
   },
   "file_extension": ".py",
   "mimetype": "text/x-python",
   "name": "python",
   "nbconvert_exporter": "python",
   "pygments_lexer": "ipython3",
   "version": "3.9.7"
  }
 },
 "nbformat": 4,
 "nbformat_minor": 5
}
