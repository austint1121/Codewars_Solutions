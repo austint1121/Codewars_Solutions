{
 "cells": [
  {
   "cell_type": "code",
   "execution_count": 76,
   "id": "74a0bca5",
   "metadata": {},
   "outputs": [],
   "source": [
    "m = [\n",
    "            'SX#  EDE ',\n",
    "            '  # EEEEE',\n",
    "            '#-#     X',\n",
    "            '         ',\n",
    "            '^       K',\n",
    "        ]"
   ]
  },
  {
   "cell_type": "code",
   "execution_count": 77,
   "id": "3024a2a7",
   "metadata": {},
   "outputs": [],
   "source": [
    "class Player:\n",
    "    def __init__(self):\n",
    "        self.health = 3\n",
    "        self.attack = 1\n",
    "        self.defense = 1\n",
    "        self.bag = []\n",
    "        self.exp = 0\n",
    "        self.position = [0, 0]\n",
    "        self.direction = ''\n",
    "    \n",
    "    def attack(self, enemy_defense):\n",
    "        # max(0, (attack stat) - (enemy defense stat))\n",
    "        pass\n",
    "    \n",
    "    def defend(self, enemy_attack):\n",
    "        # max(0, (Enemy's attack stat) - (Your defense stat))\n",
    "        pass\n",
    "    \n",
    "    def movement(self, field):\n",
    "        \"\"\"Moves player forward 1 unit in the direction they are facing, and checks if this would be a valid move\"\"\"\n",
    "        if direction == '^':\n",
    "            if [position[0] - 1, position[1]]:\n",
    "                position"
   ]
  },
  {
   "cell_type": "code",
   "execution_count": 78,
   "id": "bd71afe8",
   "metadata": {},
   "outputs": [],
   "source": [
    "def rpg(field, actions):\n",
    "    m = field\n",
    "    player = Player()\n",
    "    \n",
    "    # Turn map from string type into list\n",
    "    for x, items in enumerate(m):\n",
    "        m[x] = list(items)\n",
    "        \n",
    "    # Find player position\n",
    "    for y, cols in enumerate(m):\n",
    "        for x, rows in enumerate(cols):\n",
    "            if rows in ['^', '>', '<', 'v']:\n",
    "                player.position = [x, y]\n",
    "                player.direction = rows\n",
    "    \n",
    "    # Main loop through actions\n",
    "    for action in actions:\n",
    "        if action == 'F':\n",
    "            player.movement(m)"
   ]
  },
  {
   "cell_type": "code",
   "execution_count": 79,
   "id": "fb4558f2",
   "metadata": {},
   "outputs": [
    {
     "ename": "TypeError",
     "evalue": "movement() takes 0 positional arguments but 1 was given",
     "output_type": "error",
     "traceback": [
      "\u001b[0;31m---------------------------------------------------------------------------\u001b[0m",
      "\u001b[0;31mTypeError\u001b[0m                                 Traceback (most recent call last)",
      "\u001b[0;32m/var/folders/y8/vq429chs6djb0hl0y0zp5fg00000gn/T/ipykernel_15940/2931624930.py\u001b[0m in \u001b[0;36m<module>\u001b[0;34m\u001b[0m\n\u001b[0;32m----> 1\u001b[0;31m \u001b[0mrpg\u001b[0m\u001b[0;34m(\u001b[0m\u001b[0mm\u001b[0m\u001b[0;34m,\u001b[0m \u001b[0;34m[\u001b[0m\u001b[0;34m'F'\u001b[0m\u001b[0;34m]\u001b[0m\u001b[0;34m)\u001b[0m\u001b[0;34m\u001b[0m\u001b[0;34m\u001b[0m\u001b[0m\n\u001b[0m",
      "\u001b[0;32m/var/folders/y8/vq429chs6djb0hl0y0zp5fg00000gn/T/ipykernel_15940/3002820162.py\u001b[0m in \u001b[0;36mrpg\u001b[0;34m(field, actions)\u001b[0m\n\u001b[1;32m     17\u001b[0m     \u001b[0;32mfor\u001b[0m \u001b[0maction\u001b[0m \u001b[0;32min\u001b[0m \u001b[0mactions\u001b[0m\u001b[0;34m:\u001b[0m\u001b[0;34m\u001b[0m\u001b[0;34m\u001b[0m\u001b[0m\n\u001b[1;32m     18\u001b[0m         \u001b[0;32mif\u001b[0m \u001b[0maction\u001b[0m \u001b[0;34m==\u001b[0m \u001b[0;34m'F'\u001b[0m\u001b[0;34m:\u001b[0m\u001b[0;34m\u001b[0m\u001b[0;34m\u001b[0m\u001b[0m\n\u001b[0;32m---> 19\u001b[0;31m             \u001b[0mplayer\u001b[0m\u001b[0;34m.\u001b[0m\u001b[0mmovement\u001b[0m\u001b[0;34m(\u001b[0m\u001b[0;34m)\u001b[0m\u001b[0;34m\u001b[0m\u001b[0;34m\u001b[0m\u001b[0m\n\u001b[0m",
      "\u001b[0;31mTypeError\u001b[0m: movement() takes 0 positional arguments but 1 was given"
     ]
    }
   ],
   "source": [
    "rpg(m, ['F'])"
   ]
  },
  {
   "cell_type": "code",
   "execution_count": 72,
   "id": "498bf6b3",
   "metadata": {},
   "outputs": [
    {
     "data": {
      "text/plain": [
       "[['S', 'X', '#', ' ', ' ', 'E', 'D', 'E', ' '],\n",
       " [' ', ' ', '#', ' ', 'E', 'E', 'E', 'E', 'E'],\n",
       " ['#', '-', '#', ' ', ' ', ' ', ' ', ' ', 'X'],\n",
       " [' ', ' ', ' ', ' ', ' ', ' ', ' ', ' ', ' '],\n",
       " ['^', ' ', ' ', ' ', ' ', ' ', ' ', ' ', 'K']]"
      ]
     },
     "execution_count": 72,
     "metadata": {},
     "output_type": "execute_result"
    }
   ],
   "source": [
    "m"
   ]
  },
  {
   "cell_type": "code",
   "execution_count": 75,
   "id": "d7653c67",
   "metadata": {},
   "outputs": [
    {
     "data": {
      "text/plain": [
       "True"
      ]
     },
     "execution_count": 75,
     "metadata": {},
     "output_type": "execute_result"
    }
   ],
   "source": []
  },
  {
   "cell_type": "code",
   "execution_count": null,
   "id": "be24d3c1",
   "metadata": {},
   "outputs": [],
   "source": []
  }
 ],
 "metadata": {
  "kernelspec": {
   "display_name": "Python 3 (ipykernel)",
   "language": "python",
   "name": "python3"
  },
  "language_info": {
   "codemirror_mode": {
    "name": "ipython",
    "version": 3
   },
   "file_extension": ".py",
   "mimetype": "text/x-python",
   "name": "python",
   "nbconvert_exporter": "python",
   "pygments_lexer": "ipython3",
   "version": "3.9.7"
  }
 },
 "nbformat": 4,
 "nbformat_minor": 5
}
