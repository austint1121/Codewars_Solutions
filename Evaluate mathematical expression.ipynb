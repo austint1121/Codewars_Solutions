{
 "cells": [
  {
   "cell_type": "markdown",
   "source": [
    "# [Evaluate Mathematical Expression](https://www.codewars.com/kata/52a78825cdfc2cfc87000005)"
   ],
   "metadata": {
    "collapsed": false,
    "pycharm": {
     "name": "#%% md\n"
    }
   }
  },
  {
   "cell_type": "markdown",
   "source": [
    "## Instructions\n",
    "Given a mathematical expression as a string you must return the result as a number.\n",
    "\n",
    "## Numbers\n",
    "Number may be both whole numbers and/or decimal numbers. The same goes for the returned result.\n",
    "\n",
    "## Operators\n",
    "You need to support the following mathematical operators:\n",
    "- Multiplication *\n",
    "- Division / (as floating point division)\n",
    "- Addition +\n",
    "- Subtraction -\n",
    "Operators are always evaluated from left-to-right, and * and / must be evaluated before + and -.\n",
    "\n",
    "## Parentheses\n",
    "You need to support multiple levels of nested parentheses, ex. (2 / (2 + 3.33) * 4) - -6\n",
    "\n",
    "## Whitespace\n",
    "There may or may not be whitespace between numbers and operators.\n",
    "\n",
    "## Validation\n",
    "You do not need to worry about validation - you will only receive valid mathematical expressions following the above rules.\n",
    "\n",
    "## Restricted APIs\n",
    "NOTE: eval and exec are disallowed in your solution."
   ],
   "metadata": {
    "collapsed": false
   }
  },
  {
   "cell_type": "code",
   "execution_count": 24,
   "outputs": [
    {
     "data": {
      "text/plain": "'1+1'"
     },
     "execution_count": 24,
     "metadata": {},
     "output_type": "execute_result"
    }
   ],
   "source": [
    "num = \"1 + 1\".replace(\" \", \"\")\n",
    "num\n",
    "#listnum = [x.strip() for x in num.split()]"
   ],
   "metadata": {
    "collapsed": false,
    "pycharm": {
     "name": "#%%\n"
    }
   }
  },
  {
   "cell_type": "code",
   "execution_count": 31,
   "outputs": [],
   "source": [
    "import matplotlib.pyplot as plt\n",
    "import numpy as np\n",
    "import pandas as pd"
   ],
   "metadata": {
    "collapsed": false,
    "pycharm": {
     "name": "#%%\n"
    }
   }
  },
  {
   "cell_type": "code",
   "execution_count": 34,
   "outputs": [],
   "source": [
    "data3 = pd.DataFrame([10, 20, 30, 40, 50],\n",
    "                      [5, 10, 15, 20, 25])"
   ],
   "metadata": {
    "collapsed": false,
    "pycharm": {
     "name": "#%%\n"
    }
   }
  },
  {
   "cell_type": "code",
   "execution_count": 35,
   "outputs": [
    {
     "data": {
      "text/plain": "<AxesSubplot:>"
     },
     "execution_count": 35,
     "metadata": {},
     "output_type": "execute_result"
    },
    {
     "data": {
      "text/plain": "<Figure size 432x288 with 1 Axes>",
      "image/png": "[encoded data removed]"
     },
     "metadata": {
      "needs_background": "light"
     },
     "output_type": "display_data"
    }
   ],
   "source": [
    "data3.plot()"
   ],
   "metadata": {
    "collapsed": false,
    "pycharm": {
     "name": "#%%\n"
    }
   }
  },
  {
   "cell_type": "code",
   "execution_count": null,
   "outputs": [],
   "source": [],
   "metadata": {
    "collapsed": false,
    "pycharm": {
     "name": "#%%\n"
    }
   }
  }
 ],
 "metadata": {
  "kernelspec": {
   "display_name": "Python 3",
   "language": "python",
   "name": "python3"
  },
  "language_info": {
   "codemirror_mode": {
    "name": "ipython",
    "version": 2
   },
   "file_extension": ".py",
   "mimetype": "text/x-python",
   "name": "python",
   "nbconvert_exporter": "python",
   "pygments_lexer": "ipython2",
   "version": "2.7.6"
  }
 },
 "nbformat": 4,
 "nbformat_minor": 0
}