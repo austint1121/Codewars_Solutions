{
 "cells": [
  {
   "cell_type": "markdown",
   "metadata": {
    "collapsed": true,
    "pycharm": {
     "name": "#%% md\n"
    }
   },
   "source": [
    "# [Battleship Field Validator](codewars.com/kata/52bb6539a4cf1b12d90005b7/train/python)\n",
    "Write a method that takes a field for well-known board game \"Battleship\" as an argument and returns true if it has a valid disposition of ships, false otherwise. Argument is guaranteed to be 10*10 two-dimension array. Elements in the array are numbers, 0 if the cell is free and 1 if occupied by ship.\n",
    "\n",
    "Before the game begins, players set up the board and place the ships accordingly to the following rules:\n",
    "\n",
    "- There must be single battleship (size of 4 cells), 2 cruisers (size 3), 3 destroyers (size 2) and 4 submarines (size 1). Any additional ships are not allowed, as well as missing ships.\n",
    "<br>\n",
    "\n",
    "- Each ship must be a straight line, except for submarines, which are just single cell.\n",
    "<br>\n",
    "\n",
    "- The ship cannot overlap or be in contact with any other ship, neither by edge nor by corner."
   ]
  },
  {
   "cell_type": "markdown",
   "source": [
    "## Solution"
   ],
   "metadata": {
    "collapsed": false,
    "pycharm": {
     "name": "#%% md\n"
    }
   }
  },
  {
   "cell_type": "code",
   "execution_count": 2,
   "outputs": [],
   "source": [
    "import numpy as np"
   ],
   "metadata": {
    "collapsed": false,
    "pycharm": {
     "name": "#%%\n"
    }
   }
  },
  {
   "cell_type": "code",
   "execution_count": 3,
   "outputs": [],
   "source": [
    "battleField = [[1, 0, 0, 0, 0, 1, 1, 0, 0, 0],\n",
    "               [1, 0, 1, 0, 0, 0, 0, 0, 1, 0],\n",
    "               [1, 0, 1, 0, 1, 1, 1, 0, 1, 0],\n",
    "               [1, 0, 0, 0, 0, 0, 0, 0, 0, 0],\n",
    "               [0, 0, 0, 0, 0, 0, 0, 0, 1, 0],\n",
    "               [0, 0, 0, 0, 1, 1, 1, 0, 0, 0],\n",
    "               [0, 0, 0, 0, 0, 0, 0, 0, 1, 0],\n",
    "               [0, 0, 0, 1, 0, 0, 0, 0, 0, 0],\n",
    "               [0, 0, 0, 0, 0, 0, 0, 1, 0, 0],\n",
    "               [0, 0, 0, 0, 0, 0, 0, 0, 0, 0]]"
   ],
   "metadata": {
    "collapsed": false,
    "pycharm": {
     "name": "#%%\n"
    }
   }
  },
  {
   "cell_type": "code",
   "execution_count": 7,
   "outputs": [],
   "source": [
    "def validate_battlefield(field):\n",
    "    # Dictionary to keep track of how many ships are on the field.\n",
    "    ships = {\n",
    "        'battleship': 1, # 4 tiles\n",
    "        'cruiser': 2, # 3 tiles\n",
    "        'destroyer': 3, # 2 tiles\n",
    "        'submarines': 4 # 1 tile\n",
    "    }\n",
    "    total = 0\n",
    "\n"
   ],
   "metadata": {
    "collapsed": false,
    "pycharm": {
     "name": "#%%\n"
    }
   }
  },
  {
   "cell_type": "code",
   "execution_count": null,
   "outputs": [],
   "source": [
    "def identify_ship(X, Y):\n",
    "    current = X, Y"
   ],
   "metadata": {
    "collapsed": false,
    "pycharm": {
     "name": "#%%\n"
    }
   }
  },
  {
   "cell_type": "code",
   "execution_count": 15,
   "outputs": [
    {
     "ename": "AttributeError",
     "evalue": "'list' object has no attribute 'sorted'",
     "output_type": "error",
     "traceback": [
      "\u001B[0;31m---------------------------------------------------------------------------\u001B[0m",
      "\u001B[0;31mAttributeError\u001B[0m                            Traceback (most recent call last)",
      "\u001B[0;32m<ipython-input-15-ab7c6f794ffe>\u001B[0m in \u001B[0;36m<module>\u001B[0;34m\u001B[0m\n\u001B[1;32m      4\u001B[0m         \u001B[0;32mif\u001B[0m \u001B[0mcol\u001B[0m\u001B[0;34m:\u001B[0m\u001B[0;34m\u001B[0m\u001B[0;34m\u001B[0m\u001B[0m\n\u001B[1;32m      5\u001B[0m             \u001B[0mpositions\u001B[0m\u001B[0;34m.\u001B[0m\u001B[0mappend\u001B[0m\u001B[0;34m(\u001B[0m\u001B[0;34m(\u001B[0m\u001B[0mx\u001B[0m\u001B[0;34m,\u001B[0m \u001B[0my\u001B[0m\u001B[0;34m)\u001B[0m\u001B[0;34m)\u001B[0m\u001B[0;34m\u001B[0m\u001B[0;34m\u001B[0m\u001B[0m\n\u001B[0;32m----> 6\u001B[0;31m \u001B[0mprint\u001B[0m\u001B[0;34m(\u001B[0m\u001B[0mpositions\u001B[0m\u001B[0;34m.\u001B[0m\u001B[0msorted\u001B[0m\u001B[0;34m(\u001B[0m\u001B[0;34m)\u001B[0m\u001B[0;34m)\u001B[0m\u001B[0;34m\u001B[0m\u001B[0;34m\u001B[0m\u001B[0m\n\u001B[0m\u001B[1;32m      7\u001B[0m \u001B[0;34m\u001B[0m\u001B[0m\n",
      "\u001B[0;31mAttributeError\u001B[0m: 'list' object has no attribute 'sorted'"
     ]
    }
   ],
   "source": [
    "positions = []\n",
    "for x, rows in enumerate(battleField):\n",
    "    for y, col in enumerate(rows):\n",
    "        if col:\n",
    "            positions.append((x, y))"
   ],
   "metadata": {
    "collapsed": false,
    "pycharm": {
     "name": "#%%\n"
    }
   }
  },
  {
   "cell_type": "code",
   "execution_count": 16,
   "outputs": [],
   "source": [
    "positions.sort()"
   ],
   "metadata": {
    "collapsed": false,
    "pycharm": {
     "name": "#%%\n"
    }
   }
  },
  {
   "cell_type": "code",
   "execution_count": 17,
   "outputs": [
    {
     "data": {
      "text/plain": "[(0, 0),\n (0, 5),\n (0, 6),\n (1, 0),\n (1, 2),\n (1, 8),\n (2, 0),\n (2, 2),\n (2, 4),\n (2, 5),\n (2, 6),\n (2, 8),\n (3, 0),\n (4, 8),\n (5, 4),\n (5, 5),\n (5, 6),\n (6, 8),\n (7, 3),\n (8, 7)]"
     },
     "execution_count": 17,
     "metadata": {},
     "output_type": "execute_result"
    }
   ],
   "source": [
    "positions"
   ],
   "metadata": {
    "collapsed": false,
    "pycharm": {
     "name": "#%%\n"
    }
   }
  },
  {
   "cell_type": "code",
   "execution_count": null,
   "outputs": [],
   "source": [],
   "metadata": {
    "collapsed": false,
    "pycharm": {
     "name": "#%%\n"
    }
   }
  }
 ],
 "metadata": {
  "kernelspec": {
   "name": "python3",
   "language": "python",
   "display_name": "Python 3 (ipykernel)"
  },
  "language_info": {
   "codemirror_mode": {
    "name": "ipython",
    "version": 2
   },
   "file_extension": ".py",
   "mimetype": "text/x-python",
   "name": "python",
   "nbconvert_exporter": "python",
   "pygments_lexer": "ipython2",
   "version": "2.7.6"
  }
 },
 "nbformat": 4,
 "nbformat_minor": 0
}