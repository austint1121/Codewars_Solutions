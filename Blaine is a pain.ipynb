{
 "cells": [
  {
   "cell_type": "code",
   "execution_count": 1,
   "id": "6316116e",
   "metadata": {},
   "outputs": [],
   "source": [
    "def train_crash(track, a_train, a_train_pos, b_train, b_train_pos, limit):\n",
    "    # Your code here!\n",
    "    pass"
   ]
  },
  {
   "cell_type": "code",
   "execution_count": 2,
   "id": "f564968a",
   "metadata": {},
   "outputs": [
    {
     "name": "stdout",
     "output_type": "stream",
     "text": [
      "nice\n"
     ]
    }
   ],
   "source": [
    "print(\"nice\")"
   ]
  },
  {
   "cell_type": "code",
   "execution_count": 3,
   "id": "a4256593",
   "metadata": {},
   "outputs": [],
   "source": [
    "TRACK_EX = \"\"\"\\\n",
    "                                /------------\\\\\n",
    "/-------------\\\\                /             |\n",
    "|             |               /              S\n",
    "|             |              /               |\n",
    "|        /----+--------------+------\\\\        |   \n",
    "\\\\       /     |              |      |        |     \n",
    " \\\\      |     \\\\              |      |        |                    \n",
    " |      |      \\\\-------------+------+--------+---\\\\\n",
    " |      |                    |      |        |   |\n",
    " \\\\------+--------------------+------/        /   |\n",
    "        |                    |              /    | \n",
    "        \\\\------S-------------+-------------/     |\n",
    "                             |                   |\n",
    "/-------------\\\\              |                   |\n",
    "|             |              |             /-----+----\\\\\n",
    "|             |              |             |     |     \\\\\n",
    "\\\\-------------+--------------+-----S-------+-----/      \\\\\n",
    "              |              |             |             \\\\\n",
    "              |              |             |             |\n",
    "              |              \\\\-------------+-------------/\n",
    "              |                            |               \n",
    "              \\\\----------------------------/ \n",
    "\"\"\"\n",
    "\n",
    "\n",
    " #train_crash(TRACK_EX, \"Aaaa\", 147, \"Bbbbbbbbbbb\", 288, 1000) #516"
   ]
  },
  {
   "cell_type": "code",
   "execution_count": 4,
   "id": "21fbc957",
   "metadata": {},
   "outputs": [
    {
     "name": "stdout",
     "output_type": "stream",
     "text": [
      "                                /------------\\\n",
      "/-------------\\                /             |\n",
      "|             |               /              S\n",
      "|             |              /               |\n",
      "|        /----+--------------+------\\        |   \n",
      "\\       /     |              |      |        |     \n",
      " \\      |     \\              |      |        |                    \n",
      " |      |      \\-------------+------+--------+---\\\n",
      " |      |                    |      |        |   |\n",
      " \\------+--------------------+------/        /   |\n",
      "        |                    |              /    | \n",
      "        \\------S-------------+-------------/     |\n",
      "                             |                   |\n",
      "/-------------\\              |                   |\n",
      "|             |              |             /-----+----\\\n",
      "|             |              |             |     |     \\\n",
      "\\-------------+--------------+-----S-------+-----/      \\\n",
      "              |              |             |             \\\n",
      "              |              |             |             |\n",
      "              |              \\-------------+-------------/\n",
      "              |                            |               \n",
      "              \\----------------------------/ \n",
      "\n"
     ]
    }
   ],
   "source": [
    "print(TRACK_EX)"
   ]
  },
  {
   "cell_type": "code",
   "execution_count": null,
   "id": "0181dfb6",
   "metadata": {},
   "outputs": [],
   "source": []
  }
 ],
 "metadata": {
  "kernelspec": {
   "display_name": "Python 3 (ipykernel)",
   "language": "python",
   "name": "python3"
  },
  "language_info": {
   "codemirror_mode": {
    "name": "ipython",
    "version": 3
   },
   "file_extension": ".py",
   "mimetype": "text/x-python",
   "name": "python",
   "nbconvert_exporter": "python",
   "pygments_lexer": "ipython3",
   "version": "3.9.7"
  }
 },
 "nbformat": 4,
 "nbformat_minor": 5
}
